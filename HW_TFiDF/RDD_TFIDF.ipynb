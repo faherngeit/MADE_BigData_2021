{
 "cells": [
  {
   "cell_type": "code",
   "execution_count": 1,
   "outputs": [],
   "source": [
    "from pyspark.sql import SparkSession, Window\n",
    "import pyspark.sql.functions as F\n",
    "from pyspark.sql.types import *"
   ],
   "metadata": {
    "collapsed": false,
    "pycharm": {
     "name": "#%%\n"
    }
   }
  },
  {
   "cell_type": "code",
   "execution_count": 2,
   "outputs": [],
   "source": [
    "def removePunctuation(column):\n",
    "    return F.split(F.trim(F.lower(F.regexp_replace(F.concat_ws(\" \", column),'[^\\sa-zA-Z0-9]', ''))), \" \").alias('Review')"
   ],
   "metadata": {
    "collapsed": false,
    "pycharm": {
     "name": "#%%\n"
    }
   }
  },
  {
   "cell_type": "code",
   "execution_count": 3,
   "outputs": [],
   "source": [
    "spark = SparkSession.builder\\\n",
    "    .master(\"local[*]\")\\\n",
    "    .appName('PySpark_Tutorial')\\\n",
    "    .getOrCreate()"
   ],
   "metadata": {
    "collapsed": false,
    "pycharm": {
     "name": "#%%\n"
    }
   }
  },
  {
   "cell_type": "code",
   "execution_count": 4,
   "outputs": [],
   "source": [
    "data_schema = [StructField('Review', StringType(), True),\n",
    "               StructField('Rating', StringType(), True),]\n",
    "final_struc = StructType(fields = data_schema)"
   ],
   "metadata": {
    "collapsed": false,
    "pycharm": {
     "name": "#%%\n"
    }
   }
  },
  {
   "cell_type": "code",
   "execution_count": 5,
   "outputs": [],
   "source": [
    "csv_path = 'tripadvisor_hotel_reviews.csv'\n",
    "df = spark.read.csv(csv_path, schema=final_struc, header=False)"
   ],
   "metadata": {
    "collapsed": false,
    "pycharm": {
     "name": "#%%\n"
    }
   }
  },
  {
   "cell_type": "code",
   "execution_count": 6,
   "outputs": [],
   "source": [
    "w = Window().partitionBy('new_column').orderBy(F.lit('A'))\n",
    "df = df.where(df['Review'] != 'Review')\\\n",
    "    .withColumn(\"new_column\",F.lit(\"ABC\"))\\\n",
    "    .withColumn(\"id\",F. row_number()\\\n",
    "                .over(w))\\\n",
    "    .drop(\"new_column\")"
   ],
   "metadata": {
    "collapsed": false,
    "pycharm": {
     "name": "#%%\n"
    }
   }
  },
  {
   "cell_type": "code",
   "execution_count": 8,
   "outputs": [],
   "source": [
    "df_count = df.select('id', removePunctuation(F.col('Review')))\\\n",
    "    .withColumn('split', F.col('Review'))\\\n",
    "    .withColumn('words', F.explode('split'))\\\n",
    "    .groupby('id', 'Review').count()"
   ],
   "metadata": {
    "collapsed": false,
    "pycharm": {
     "name": "#%%\n"
    }
   }
  },
  {
   "cell_type": "code",
   "execution_count": 9,
   "outputs": [],
   "source": [
    "tf = df_count.withColumnRenamed('count', 'len')\\\n",
    "    .withColumn('words', F.explode('Review'))\\\n",
    "    .drop('Review').groupby('id','words', 'len').count()\\\n",
    "    .withColumn('tf', F.col('count') / F.col('len'))"
   ],
   "metadata": {
    "collapsed": false,
    "pycharm": {
     "name": "#%%\n"
    }
   }
  },
  {
   "cell_type": "code",
   "execution_count": 10,
   "outputs": [],
   "source": [
    "idf = df_count.withColumnRenamed('count', 'len')\\\n",
    "    .withColumn('words', F.explode('Review'))\\\n",
    "    .drop('Review').groupby('id','words', 'len').count()\\\n",
    "    .groupby('words').count()\\\n",
    "    .withColumnRenamed('count', 'total')\\\n",
    "    .withColumn('idf', F.lit(df.count()) / (F.lit(1) + F.col('total')))"
   ],
   "metadata": {
    "collapsed": false,
    "pycharm": {
     "name": "#%%\n"
    }
   }
  },
  {
   "cell_type": "code",
   "execution_count": 36,
   "outputs": [],
   "source": [
    "tf_idf = tf.join(idf.sort('total', ascending=False).limit(100).drop('total'), on=['words'], how='inner')\\\n",
    "    .withColumn('tf-idf', F.col('tf') * F.col('idf'))\\\n",
    "    .drop('len', 'count', 'tf', 'idf')"
   ],
   "metadata": {
    "collapsed": false,
    "pycharm": {
     "name": "#%%\n"
    }
   }
  },
  {
   "cell_type": "code",
   "execution_count": 38,
   "outputs": [],
   "source": [
    "tf_idf = tf_idf.groupby('id').pivot('words').sum('tf-idf')"
   ],
   "metadata": {
    "collapsed": false,
    "pycharm": {
     "name": "#%%\n"
    }
   }
  },
  {
   "cell_type": "code",
   "execution_count": 40,
   "outputs": [],
   "source": [
    "tf_idf.write.format('csv').save('tf_idf')"
   ],
   "metadata": {
    "collapsed": false,
    "pycharm": {
     "name": "#%%\n"
    }
   }
  },
  {
   "cell_type": "markdown",
   "source": [],
   "metadata": {
    "collapsed": false
   }
  }
 ],
 "metadata": {
  "kernelspec": {
   "display_name": "Python 3",
   "language": "python",
   "name": "python3"
  },
  "language_info": {
   "codemirror_mode": {
    "name": "ipython",
    "version": 2
   },
   "file_extension": ".py",
   "mimetype": "text/x-python",
   "name": "python",
   "nbconvert_exporter": "python",
   "pygments_lexer": "ipython2",
   "version": "2.7.6"
  }
 },
 "nbformat": 4,
 "nbformat_minor": 0
}